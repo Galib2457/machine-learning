{
 "cells": [
  {
   "cell_type": "code",
   "execution_count": 1,
   "id": "98139037-a107-44d8-9869-ae7758915af2",
   "metadata": {},
   "outputs": [],
   "source": [
    "import pandas as pd \n",
    "import numpy as np"
   ]
  },
  {
   "cell_type": "code",
   "execution_count": 2,
   "id": "7982d1d2-6a5a-4b51-a230-05293214614f",
   "metadata": {},
   "outputs": [],
   "source": [
    "df=pd.read_csv(\"C:/Users/galib/Downloads/food-price-index-september-2023-index-numbers.csv\")"
   ]
  },
  {
   "cell_type": "code",
   "execution_count": 3,
   "id": "8137c7b0-f389-47ab-b3e8-8d6ebd2466c8",
   "metadata": {},
   "outputs": [],
   "source": [
    "from sklearn.compose import ColumnTransformer\n",
    "from sklearn.preprocessing import StandardScaler, OneHotEncoder,FunctionTransformer,OrdinalEncoder\n",
    "from sklearn.pipeline import Pipeline\n",
    "from sklearn.linear_model import LinearRegression,LogisticRegression\n",
    "from sklearn.model_selection import train_test_split\n",
    "from sklearn.impute import SimpleImputer\n",
    "from sklearn.ensemble import RandomForestRegressor\n",
    "from sklearn.metrics import mean_squared_error, mean_absolute_error, r2_score"
   ]
  },
  {
   "cell_type": "code",
   "execution_count": 4,
   "id": "51fdc0c7-9a78-439f-bb45-06680a6ab95d",
   "metadata": {},
   "outputs": [],
   "source": [
    "df=df.dropna(subset=['Data_value'])"
   ]
  },
  {
   "cell_type": "code",
   "execution_count": 5,
   "id": "c6d11d5b-d03b-43a1-b5ba-ad84fd17f58b",
   "metadata": {},
   "outputs": [
    {
     "data": {
      "text/html": [
       "<div>\n",
       "<style scoped>\n",
       "    .dataframe tbody tr th:only-of-type {\n",
       "        vertical-align: middle;\n",
       "    }\n",
       "\n",
       "    .dataframe tbody tr th {\n",
       "        vertical-align: top;\n",
       "    }\n",
       "\n",
       "    .dataframe thead th {\n",
       "        text-align: right;\n",
       "    }\n",
       "</style>\n",
       "<table border=\"1\" class=\"dataframe\">\n",
       "  <thead>\n",
       "    <tr style=\"text-align: right;\">\n",
       "      <th></th>\n",
       "      <th>Series_reference</th>\n",
       "      <th>Period</th>\n",
       "      <th>Data_value</th>\n",
       "      <th>STATUS</th>\n",
       "      <th>UNITS</th>\n",
       "      <th>Subject</th>\n",
       "      <th>Group</th>\n",
       "      <th>Series_title_1</th>\n",
       "    </tr>\n",
       "  </thead>\n",
       "  <tbody>\n",
       "    <tr>\n",
       "      <th>0</th>\n",
       "      <td>CPIM.SE901</td>\n",
       "      <td>1960.01</td>\n",
       "      <td>45.923461</td>\n",
       "      <td>FINAL</td>\n",
       "      <td>Index</td>\n",
       "      <td>Consumers Price Index - CPI</td>\n",
       "      <td>Food Price Index for New Zealand</td>\n",
       "      <td>Food</td>\n",
       "    </tr>\n",
       "    <tr>\n",
       "      <th>1</th>\n",
       "      <td>CPIM.SE901</td>\n",
       "      <td>1960.02</td>\n",
       "      <td>45.498637</td>\n",
       "      <td>FINAL</td>\n",
       "      <td>Index</td>\n",
       "      <td>Consumers Price Index - CPI</td>\n",
       "      <td>Food Price Index for New Zealand</td>\n",
       "      <td>Food</td>\n",
       "    </tr>\n",
       "    <tr>\n",
       "      <th>2</th>\n",
       "      <td>CPIM.SE901</td>\n",
       "      <td>1960.03</td>\n",
       "      <td>45.116296</td>\n",
       "      <td>FINAL</td>\n",
       "      <td>Index</td>\n",
       "      <td>Consumers Price Index - CPI</td>\n",
       "      <td>Food Price Index for New Zealand</td>\n",
       "      <td>Food</td>\n",
       "    </tr>\n",
       "    <tr>\n",
       "      <th>3</th>\n",
       "      <td>CPIM.SE901</td>\n",
       "      <td>1960.04</td>\n",
       "      <td>45.158779</td>\n",
       "      <td>FINAL</td>\n",
       "      <td>Index</td>\n",
       "      <td>Consumers Price Index - CPI</td>\n",
       "      <td>Food Price Index for New Zealand</td>\n",
       "      <td>Food</td>\n",
       "    </tr>\n",
       "    <tr>\n",
       "      <th>4</th>\n",
       "      <td>CPIM.SE901</td>\n",
       "      <td>1960.05</td>\n",
       "      <td>45.286226</td>\n",
       "      <td>FINAL</td>\n",
       "      <td>Index</td>\n",
       "      <td>Consumers Price Index - CPI</td>\n",
       "      <td>Food Price Index for New Zealand</td>\n",
       "      <td>Food</td>\n",
       "    </tr>\n",
       "    <tr>\n",
       "      <th>...</th>\n",
       "      <td>...</td>\n",
       "      <td>...</td>\n",
       "      <td>...</td>\n",
       "      <td>...</td>\n",
       "      <td>...</td>\n",
       "      <td>...</td>\n",
       "      <td>...</td>\n",
       "      <td>...</td>\n",
       "    </tr>\n",
       "    <tr>\n",
       "      <th>12863</th>\n",
       "      <td>CPIM.SE901502</td>\n",
       "      <td>2023.05</td>\n",
       "      <td>1347.000000</td>\n",
       "      <td>FINAL</td>\n",
       "      <td>Index</td>\n",
       "      <td>Consumers Price Index - CPI</td>\n",
       "      <td>Food Price Index Level 3 Classes for New Zealand</td>\n",
       "      <td>Ready-to-eat food</td>\n",
       "    </tr>\n",
       "    <tr>\n",
       "      <th>12864</th>\n",
       "      <td>CPIM.SE901502</td>\n",
       "      <td>2023.06</td>\n",
       "      <td>1361.000000</td>\n",
       "      <td>FINAL</td>\n",
       "      <td>Index</td>\n",
       "      <td>Consumers Price Index - CPI</td>\n",
       "      <td>Food Price Index Level 3 Classes for New Zealand</td>\n",
       "      <td>Ready-to-eat food</td>\n",
       "    </tr>\n",
       "    <tr>\n",
       "      <th>12865</th>\n",
       "      <td>CPIM.SE901502</td>\n",
       "      <td>2023.07</td>\n",
       "      <td>1366.000000</td>\n",
       "      <td>FINAL</td>\n",
       "      <td>Index</td>\n",
       "      <td>Consumers Price Index - CPI</td>\n",
       "      <td>Food Price Index Level 3 Classes for New Zealand</td>\n",
       "      <td>Ready-to-eat food</td>\n",
       "    </tr>\n",
       "    <tr>\n",
       "      <th>12866</th>\n",
       "      <td>CPIM.SE901502</td>\n",
       "      <td>2023.08</td>\n",
       "      <td>1367.000000</td>\n",
       "      <td>FINAL</td>\n",
       "      <td>Index</td>\n",
       "      <td>Consumers Price Index - CPI</td>\n",
       "      <td>Food Price Index Level 3 Classes for New Zealand</td>\n",
       "      <td>Ready-to-eat food</td>\n",
       "    </tr>\n",
       "    <tr>\n",
       "      <th>12867</th>\n",
       "      <td>CPIM.SE901502</td>\n",
       "      <td>2023.09</td>\n",
       "      <td>1370.000000</td>\n",
       "      <td>FINAL</td>\n",
       "      <td>Index</td>\n",
       "      <td>Consumers Price Index - CPI</td>\n",
       "      <td>Food Price Index Level 3 Classes for New Zealand</td>\n",
       "      <td>Ready-to-eat food</td>\n",
       "    </tr>\n",
       "  </tbody>\n",
       "</table>\n",
       "<p>12865 rows × 8 columns</p>\n",
       "</div>"
      ],
      "text/plain": [
       "      Series_reference   Period   Data_value STATUS  UNITS  \\\n",
       "0           CPIM.SE901  1960.01    45.923461  FINAL  Index   \n",
       "1           CPIM.SE901  1960.02    45.498637  FINAL  Index   \n",
       "2           CPIM.SE901  1960.03    45.116296  FINAL  Index   \n",
       "3           CPIM.SE901  1960.04    45.158779  FINAL  Index   \n",
       "4           CPIM.SE901  1960.05    45.286226  FINAL  Index   \n",
       "...                ...      ...          ...    ...    ...   \n",
       "12863    CPIM.SE901502  2023.05  1347.000000  FINAL  Index   \n",
       "12864    CPIM.SE901502  2023.06  1361.000000  FINAL  Index   \n",
       "12865    CPIM.SE901502  2023.07  1366.000000  FINAL  Index   \n",
       "12866    CPIM.SE901502  2023.08  1367.000000  FINAL  Index   \n",
       "12867    CPIM.SE901502  2023.09  1370.000000  FINAL  Index   \n",
       "\n",
       "                           Subject  \\\n",
       "0      Consumers Price Index - CPI   \n",
       "1      Consumers Price Index - CPI   \n",
       "2      Consumers Price Index - CPI   \n",
       "3      Consumers Price Index - CPI   \n",
       "4      Consumers Price Index - CPI   \n",
       "...                            ...   \n",
       "12863  Consumers Price Index - CPI   \n",
       "12864  Consumers Price Index - CPI   \n",
       "12865  Consumers Price Index - CPI   \n",
       "12866  Consumers Price Index - CPI   \n",
       "12867  Consumers Price Index - CPI   \n",
       "\n",
       "                                                  Group     Series_title_1  \n",
       "0                      Food Price Index for New Zealand               Food  \n",
       "1                      Food Price Index for New Zealand               Food  \n",
       "2                      Food Price Index for New Zealand               Food  \n",
       "3                      Food Price Index for New Zealand               Food  \n",
       "4                      Food Price Index for New Zealand               Food  \n",
       "...                                                 ...                ...  \n",
       "12863  Food Price Index Level 3 Classes for New Zealand  Ready-to-eat food  \n",
       "12864  Food Price Index Level 3 Classes for New Zealand  Ready-to-eat food  \n",
       "12865  Food Price Index Level 3 Classes for New Zealand  Ready-to-eat food  \n",
       "12866  Food Price Index Level 3 Classes for New Zealand  Ready-to-eat food  \n",
       "12867  Food Price Index Level 3 Classes for New Zealand  Ready-to-eat food  \n",
       "\n",
       "[12865 rows x 8 columns]"
      ]
     },
     "execution_count": 5,
     "metadata": {},
     "output_type": "execute_result"
    }
   ],
   "source": [
    "df"
   ]
  },
  {
   "cell_type": "code",
   "execution_count": null,
   "id": "01c12ce8-231d-4086-9656-c68d9292f1c9",
   "metadata": {},
   "outputs": [],
   "source": []
  },
  {
   "cell_type": "code",
   "execution_count": 6,
   "id": "e6949a9d-12fb-4eeb-bb9e-42f61dc5090c",
   "metadata": {},
   "outputs": [],
   "source": [
    "X=df.drop('Data_value',axis=1)\n",
    "y=df['Data_value']"
   ]
  },
  {
   "cell_type": "code",
   "execution_count": 7,
   "id": "877d2289-d864-4309-aa87-a4a8ac4af271",
   "metadata": {},
   "outputs": [],
   "source": [
    "def parse_year_dot_month(X):\n",
    "    if isinstance(X,pd.DataFrame):\n",
    "        X=X.values\n",
    "    years=np.floor(X).astype(int).flatten()\n",
    "    months=np.round((X-years.reshape(-1,1))*100).astype(int).flatten()\n",
    "    return pd.DataFrame({\n",
    "        'year':years,\n",
    "        'month':months\n",
    "    })\n"
   ]
  },
  {
   "cell_type": "code",
   "execution_count": 8,
   "id": "ec215e54-6a47-4404-8c14-15b53f755e16",
   "metadata": {},
   "outputs": [],
   "source": [
    "columns_to_drop=['Series_reference', 'Series_title_1', 'UNITS', 'Subject']\n",
    "categorica_cols=['STATUS','Group']\n",
    "datetime_cols=['Period']\n"
   ]
  },
  {
   "cell_type": "code",
   "execution_count": 9,
   "id": "445135e5-77b7-49fb-ad50-e2712d38a61c",
   "metadata": {},
   "outputs": [],
   "source": [
    "preprocessor=ColumnTransformer(transformers=[\n",
    "    ('columns_to_drop','drop',columns_to_drop),\n",
    "    ('cat',OrdinalEncoder(),categorica_cols),\n",
    "    ('date',FunctionTransformer(parse_year_dot_month, validate=False),datetime_cols) \n",
    "])\n",
    "pipeline=Pipeline(steps=[\n",
    "    ('preprocessing',preprocessor),\n",
    "    ('regressor',RandomForestRegressor(random_state=42))\n",
    "\n",
    "])"
   ]
  },
  {
   "cell_type": "code",
   "execution_count": 10,
   "id": "46079dec-8d7a-4755-949f-0a2f7a5bdc1f",
   "metadata": {},
   "outputs": [],
   "source": [
    "X_train, X_test, y_train, y_test = train_test_split(X, y, random_state=42)\n",
    "pipeline.fit(X_train, y_train)\n",
    "y_pred = pipeline.predict(X_test)"
   ]
  },
  {
   "cell_type": "code",
   "execution_count": null,
   "id": "ba935d0c-983b-4da7-b97b-c09204d45c70",
   "metadata": {},
   "outputs": [],
   "source": []
  },
  {
   "cell_type": "code",
   "execution_count": 11,
   "id": "bc253f06-c802-4c8f-a4e3-46e344ac7d4f",
   "metadata": {},
   "outputs": [],
   "source": [
    "mse = mean_squared_error(y_test, y_pred)\n",
    "mae = mean_absolute_error(y_test, y_pred)\n",
    "r2 = r2_score(y_test, y_pred)"
   ]
  },
  {
   "cell_type": "code",
   "execution_count": 12,
   "id": "4ffe65d2-2766-4955-b841-4cd1a4453557",
   "metadata": {},
   "outputs": [
    {
     "name": "stdout",
     "output_type": "stream",
     "text": [
      "MAE: 60.50\n",
      "MSE: 7339.48\n",
      "R2 Score: 0.88\n"
     ]
    }
   ],
   "source": [
    "print(f\"MAE: {mae:.2f}\")\n",
    "print(f\"MSE: {mse:.2f}\")\n",
    "print(f\"R2 Score: {r2:.2f}\")"
   ]
  },
  {
   "cell_type": "raw",
   "id": "730a189c-764d-4f2c-b1d3-be528c2573ce",
   "metadata": {},
   "source": []
  },
  {
   "cell_type": "code",
   "execution_count": null,
   "id": "e60a93c8-b314-4d5a-b70c-703335171284",
   "metadata": {},
   "outputs": [],
   "source": []
  },
  {
   "cell_type": "code",
   "execution_count": null,
   "id": "e05e0a35-494a-43e9-9a70-efcb6952cee6",
   "metadata": {},
   "outputs": [],
   "source": []
  },
  {
   "cell_type": "code",
   "execution_count": null,
   "id": "293c2d18-554e-453e-ba84-f45f82e9f0b3",
   "metadata": {},
   "outputs": [],
   "source": []
  },
  {
   "cell_type": "code",
   "execution_count": null,
   "id": "e6b5d0ad-dfb1-4069-84bd-eae0f6767f9f",
   "metadata": {},
   "outputs": [],
   "source": []
  }
 ],
 "metadata": {
  "kernelspec": {
   "display_name": "Python 3 (ipykernel)",
   "language": "python",
   "name": "python3"
  },
  "language_info": {
   "codemirror_mode": {
    "name": "ipython",
    "version": 3
   },
   "file_extension": ".py",
   "mimetype": "text/x-python",
   "name": "python",
   "nbconvert_exporter": "python",
   "pygments_lexer": "ipython3",
   "version": "3.13.5"
  }
 },
 "nbformat": 4,
 "nbformat_minor": 5
}
